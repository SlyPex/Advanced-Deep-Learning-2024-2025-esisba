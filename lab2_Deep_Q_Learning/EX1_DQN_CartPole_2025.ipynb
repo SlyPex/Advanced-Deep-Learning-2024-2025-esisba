{
  "nbformat": 4,
  "nbformat_minor": 0,
  "metadata": {
    "colab": {
      "provenance": [],
      "gpuType": "T4"
    },
    "kernelspec": {
      "name": "python3",
      "display_name": "Python 3"
    },
    "language_info": {
      "name": "python"
    },
    "accelerator": "GPU"
  },
  "cells": [
    {
      "cell_type": "code",
      "source": [
        "!pip install gymnasium"
      ],
      "metadata": {
        "colab": {
          "base_uri": "https://localhost:8080/"
        },
        "id": "mYu0OlZ6sK7d",
        "outputId": "aed67de2-8f95-44b5-cc14-fcb966108103",
        "is_executing": true
      },
      "execution_count": 1,
      "outputs": [
        {
          "output_type": "stream",
          "name": "stdout",
          "text": [
            "Collecting gymnasium\n",
            "  Downloading gymnasium-1.0.0-py3-none-any.whl.metadata (9.5 kB)\n",
            "Requirement already satisfied: numpy>=1.21.0 in /usr/local/lib/python3.10/dist-packages (from gymnasium) (1.26.4)\n",
            "Requirement already satisfied: cloudpickle>=1.2.0 in /usr/local/lib/python3.10/dist-packages (from gymnasium) (3.1.0)\n",
            "Requirement already satisfied: typing-extensions>=4.3.0 in /usr/local/lib/python3.10/dist-packages (from gymnasium) (4.12.2)\n",
            "Collecting farama-notifications>=0.0.1 (from gymnasium)\n",
            "  Downloading Farama_Notifications-0.0.4-py3-none-any.whl.metadata (558 bytes)\n",
            "Downloading gymnasium-1.0.0-py3-none-any.whl (958 kB)\n",
            "\u001b[?25l   \u001b[90m━━━━━━━━━━━━━━━━━━━━━━━━━━━━━━━━━━━━━━━━\u001b[0m \u001b[32m0.0/958.1 kB\u001b[0m \u001b[31m?\u001b[0m eta \u001b[36m-:--:--\u001b[0m\r\u001b[2K   \u001b[91m━━━━━━━━\u001b[0m\u001b[91m╸\u001b[0m\u001b[90m━━━━━━━━━━━━━━━━━━━━━━━━━━━━━━━\u001b[0m \u001b[32m204.8/958.1 kB\u001b[0m \u001b[31m5.9 MB/s\u001b[0m eta \u001b[36m0:00:01\u001b[0m\r\u001b[2K   \u001b[90m━━━━━━━━━━━━━━━━━━━━━━━━━━━━━━━━━━━━━━━━\u001b[0m \u001b[32m958.1/958.1 kB\u001b[0m \u001b[31m14.0 MB/s\u001b[0m eta \u001b[36m0:00:00\u001b[0m\n",
            "\u001b[?25hDownloading Farama_Notifications-0.0.4-py3-none-any.whl (2.5 kB)\n",
            "Installing collected packages: farama-notifications, gymnasium\n",
            "Successfully installed farama-notifications-0.0.4 gymnasium-1.0.0\n"
          ]
        }
      ]
    },
    {
      "cell_type": "code",
      "source": [
        "import gymnasium as gym\n",
        "import numpy as np\n",
        "import pandas as pd\n",
        "import matplotlib.pyplot as plt\n",
        "from collections import deque\n",
        "import random\n",
        "from tqdm import tqdm\n",
        "\n",
        "import torch\n",
        "from torch import nn\n",
        "import torch.nn.functional as F\n",
        "import torch.optim as optim\n"
      ],
      "metadata": {
        "id": "VpsHzyWmseVk",
        "is_executing": true
      },
      "execution_count": 2,
      "outputs": []
    },
    {
      "cell_type": "code",
      "source": [
        "device = torch.device(\"cuda:0\" if torch.cuda.is_available() else \"cpu\")"
      ],
      "metadata": {
        "id": "cQJgkAMMsEoK"
      },
      "execution_count": 3,
      "outputs": []
    },
    {
      "cell_type": "code",
      "source": [
        "# Define model\n",
        "class QNetwork(nn.Module):\n",
        "\n",
        "    def __init__(self, state_shape, h1_nodes, action_space_size, seed):\n",
        "        \"\"\" state_shape (int): Dimension of each state\n",
        "            h1_nodes (int): Number of nodes in first hidden layer\n",
        "            action_space_size (int): Dimension of each action\n",
        "            seed (int): Random seed\n",
        "        \"\"\"\n",
        "        super(QNetwork, self).__init__()\n",
        "        self.seed = torch.manual_seed(seed)\n",
        "        ## add three fully connected layers using nn.Linear()\n",
        "        #-----------------add code here-----------------------\n",
        "        self.fc1 = nn.Linear(state_shape, h1_nodes)\n",
        "        self.fc2 = nn.Linear(h1_nodes,h1_nodes)\n",
        "        self.out = nn.Linear(h1_nodes, action_space_size)\n",
        "\n",
        "\n",
        "    def forward(self, state):\n",
        "        \"\"\"Build a network that maps state -> action values.\"\"\"\n",
        "        x = self.fc1(state)\n",
        "        x = F.relu(x)\n",
        "        x = self.fc2(x)\n",
        "        x = F.relu(x)\n",
        "        x=self.out(x)\n",
        "        return x"
      ],
      "metadata": {
        "id": "jQk7LBu5s3yo"
      },
      "execution_count": 4,
      "outputs": []
    },
    {
      "cell_type": "code",
      "source": [
        "# Define memory for Experience Replay\n",
        "class ReplayMemory():\n",
        "    def __init__(self, maxlen, batch_size):\n",
        "        self.memory = deque([], maxlen=maxlen)\n",
        "        self.batch_size = batch_size\n",
        "\n",
        "    def append(self, experience):\n",
        "        self.memory.append(experience)\n",
        "\n",
        "    def sample(self):\n",
        "        #Randomly sample a batch of experiences from memory\n",
        "        #-----------------add code here-----------------------\n",
        "        return random.sample(self.memory, self.batch_size)\n",
        "\n",
        "    def __len__(self):\n",
        "        return len(self.memory)"
      ],
      "metadata": {
        "id": "W2a1w61qtpWV"
      },
      "execution_count": 5,
      "outputs": []
    },
    {
      "cell_type": "code",
      "source": [
        "#Define the Deep QLearning Agent\n",
        "class DQAgent():\n",
        "        \"\"\"Interacts with and learns from the environment.\"\"\"\n",
        "\n",
        "        def __init__(self, state_shape, action_space_size, seed, h1_nodes=64, learning_rate=5e-4, replay_memory_size=int(1e5),batch_size=64, UPDATE_EVERY=20, LEARN_EVERY=4,GAMMA=0.99):\n",
        "           \"\"\"Initialize an Agent object. \"\"\"\n",
        "\n",
        "           self.state_shape = state_shape\n",
        "           self.action_space_size = action_space_size\n",
        "           self.seed = random.seed(seed)\n",
        "           self.GAMMA = GAMMA\n",
        "           self.UPDATE_EVERY = UPDATE_EVERY\n",
        "           self.LERN_EVERY = LEARN_EVERY\n",
        "           self.h1_nodes = h1_nodes\n",
        "           self.learning_rate = learning_rate\n",
        "           self.batch_size = batch_size\n",
        "           self.replay_memory_size = replay_memory_size\n",
        "\n",
        "\n",
        "           # Q-Network\n",
        "           # create the local and the target networks\n",
        "           self.local_dqn = QNetwork(self.state_shape, self.h1_nodes, self.action_space_size, seed).to(device) #--add code here---\n",
        "           self.target_dqn = QNetwork(self.state_shape, self.h1_nodes, self.action_space_size, seed).to(device) #--add code here---\n",
        "\n",
        "           self.optimizer = optim.Adam(self.local_dqn.parameters(), lr=self.learning_rate)\n",
        "\n",
        "           # Replay memory\n",
        "           self.memory = ReplayMemory(self.replay_memory_size, self.batch_size)\n",
        "\n",
        "           # Initialize time step (for learn every LEARN_EVERY steps)\n",
        "           self.l_step = 0\n",
        "\n",
        "           # Initialize time step (for updating every UPDATE_EVERY steps)\n",
        "           self.t_step = 0\n",
        "\n",
        "        def state_to_dqn_input(self, state)->torch.Tensor:\n",
        "           return torch.from_numpy(state).float().unsqueeze(0).to(device)\n",
        "\n",
        "        #Returns actions for given state\n",
        "        #Epsilon-greedy action selection\n",
        "        def act(self, state, eps=0.):\n",
        "          if random.random() > eps:\n",
        "            action_values = self.local_dqn(self.state_to_dqn_input(state))\n",
        "            return np.argmax(action_values.cpu().data.numpy()) #--add code here---\n",
        "          else:\n",
        "            return random.choice(np.arange(self.action_space_size)) #--add code here---\n",
        "\n",
        "        def step(self, state, action, reward, next_state, done):\n",
        "           # Save experience in replay memory\n",
        "           #----------add code here---\n",
        "           self.memory.append((state, action, reward, next_state, done))\n",
        "           # If enough samples are available in memory, get random subset and learn\n",
        "           self.l_step = (self.l_step + 1) % self.LERN_EVERY\n",
        "           if self.l_step == 0 and len(self.memory) > self.batch_size:\n",
        "                experiences = self.memory.sample()#--add code here---\n",
        "                #--add code here---\n",
        "                self.learn(experiences)\n",
        "\n",
        "           # Copy local network to target network every UPDATE_EVERY time steps\n",
        "           self.t_step = (self.t_step + 1) % self.UPDATE_EVERY\n",
        "           if self.t_step == 0:\n",
        "              self.target_dqn.load_state_dict(self.local_dqn.state_dict()) #--add code here---\n",
        "\n",
        "        def learn(self, experiences):\n",
        "          q_target_list = []\n",
        "          q_expected_list = []\n",
        "          # Obtain random minibatch of tuples from ReplayMemory\n",
        "          for  state, action, reward, next_state, done in experiences:\n",
        "\n",
        "             # Convert state, next_state, action abd reward to tensors\n",
        "             state = self.state_to_dqn_input(state)#--add code here---\n",
        "             next_state = self.state_to_dqn_input(next_state) #--add code here---\n",
        "             action= torch.from_numpy(np.array([action])).long().unsqueeze(0).to(device)\n",
        "             reward = torch.from_numpy(np.array([reward])).float().unsqueeze(0).to(device)\n",
        "             ## Compute and minimize the loss\n",
        "\n",
        "             ### Extract next maximum estimated value from target network\n",
        "             if(done):\n",
        "               q_target = reward #--add code here---\n",
        "             else:\n",
        "               q_target= reward + self.GAMMA * self.target_dqn(next_state).max(1)[0]  #--add code here---\n",
        "\n",
        "             ### Calculate expected value from local network\n",
        "             q_local = self.local_dqn(state).gather(1, action) #--add code here---\n",
        "\n",
        "             q_target_list.append(q_target)\n",
        "             q_expected_list.append(q_local)\n",
        "\n",
        "          ### Loss calculation (we used Mean squared error)\n",
        "          loss = F.mse_loss(torch.cat(q_expected_list), torch.cat(q_target_list))\n",
        "          self.optimizer.zero_grad()\n",
        "          loss.backward()\n",
        "          self.optimizer.step()\n",
        "\n",
        "\n"
      ],
      "metadata": {
        "id": "YbRg16A-uGjZ"
      },
      "execution_count": 6,
      "outputs": []
    },
    {
      "cell_type": "code",
      "outputs": [],
      "source": [
        "def dqn_train(agent, n_episodes=300, max_t=1000, eps_start=1.0, eps_end=0.01, eps_decay=0.995):\n",
        "\n",
        "    scores = []                        # list containing scores from each episode\n",
        "    scores_window = deque(maxlen=100)  # last 100 scores\n",
        "    eps = eps_start                    # initialize epsilon\n",
        "\n",
        "    for i_episode in  tqdm(range(1, n_episodes+1)):\n",
        "        state = env.reset()[0]\n",
        "\n",
        "        score = 0\n",
        "        for t in range(max_t):\n",
        "            # select an action\n",
        "            action = agent.act(state, eps)\n",
        "\n",
        "            #apply the selected action\n",
        "            next_state, reward, done, _, _ = env.step(action)\n",
        "\n",
        "            # store the current experience\n",
        "            #--add code here---\n",
        "            agent.step(state, action, reward, next_state, done)\n",
        "\n",
        "            state = next_state\n",
        "            score += reward\n",
        "            if done:\n",
        "                break\n",
        "\n",
        "        scores_window.append(score)       # save most recent score\n",
        "        scores.append(score)              # save most recent score\n",
        "        eps = max(eps_end, eps_decay*eps) # decrease epsilon\n",
        "\n",
        "        if i_episode % 50 == 0:\n",
        "            print('\\rEpisode {}\\tAverage Score: {:.2f}'.format(i_episode, np.mean(scores_window)))\n",
        "\n",
        "    torch.save(agent.local_dqn.state_dict(), 'checkpoint.pth')\n",
        "    return scores"
      ],
      "metadata": {
        "id": "-sVzEgJ4Wzes"
      },
      "execution_count": 7
    },
    {
      "cell_type": "code",
      "source": [
        "env = gym.make('CartPole-v1')\n",
        "print(env.reset())\n",
        "\n",
        "print('State shape: ', env.observation_space.shape[0])\n",
        "print('Number of actions: ', env.action_space.n)"
      ],
      "metadata": {
        "id": "dgqM0KQY8474",
        "colab": {
          "base_uri": "https://localhost:8080/"
        },
        "outputId": "44b65b6f-efa3-4175-f78f-6f416402849d"
      },
      "execution_count": 8,
      "outputs": [
        {
          "output_type": "stream",
          "name": "stdout",
          "text": [
            "(array([-0.01251303,  0.01029812,  0.03587928, -0.03291853], dtype=float32), {})\n",
            "State shape:  4\n",
            "Number of actions:  2\n"
          ]
        }
      ]
    },
    {
      "cell_type": "code",
      "source": [
        "agent = DQAgent(state_shape=env.observation_space.shape[0], action_space_size=env.action_space.n, seed=0)\n",
        "scores = dqn_train(agent)"
      ],
      "metadata": {
        "id": "GQ53wv7a-fEU",
        "colab": {
          "base_uri": "https://localhost:8080/"
        },
        "outputId": "25c8325b-67e8-4c68-b111-f86c5ed2e926"
      },
      "execution_count": 9,
      "outputs": [
        {
          "output_type": "stream",
          "name": "stderr",
          "text": [
            " 17%|█▋        | 50/300 [00:20<01:30,  2.76it/s]"
          ]
        },
        {
          "output_type": "stream",
          "name": "stdout",
          "text": [
            "\rEpisode 50\tAverage Score: 18.98\n"
          ]
        },
        {
          "output_type": "stream",
          "name": "stderr",
          "text": [
            " 34%|███▎      | 101/300 [00:36<00:44,  4.49it/s]"
          ]
        },
        {
          "output_type": "stream",
          "name": "stdout",
          "text": [
            "\rEpisode 100\tAverage Score: 17.32\n"
          ]
        },
        {
          "output_type": "stream",
          "name": "stderr",
          "text": [
            " 50%|█████     | 150/300 [01:01<01:54,  1.32it/s]"
          ]
        },
        {
          "output_type": "stream",
          "name": "stdout",
          "text": [
            "\rEpisode 150\tAverage Score: 20.10\n"
          ]
        },
        {
          "output_type": "stream",
          "name": "stderr",
          "text": [
            " 67%|██████▋   | 200/300 [01:55<02:29,  1.49s/it]"
          ]
        },
        {
          "output_type": "stream",
          "name": "stdout",
          "text": [
            "\rEpisode 200\tAverage Score: 39.78\n"
          ]
        },
        {
          "output_type": "stream",
          "name": "stderr",
          "text": [
            " 83%|████████▎ | 250/300 [03:36<02:54,  3.50s/it]"
          ]
        },
        {
          "output_type": "stream",
          "name": "stdout",
          "text": [
            "\rEpisode 250\tAverage Score: 77.75\n"
          ]
        },
        {
          "output_type": "stream",
          "name": "stderr",
          "text": [
            "100%|██████████| 300/300 [06:55<00:00,  1.39s/it]"
          ]
        },
        {
          "output_type": "stream",
          "name": "stdout",
          "text": [
            "\rEpisode 300\tAverage Score: 149.64\n"
          ]
        },
        {
          "output_type": "stream",
          "name": "stderr",
          "text": [
            "\n"
          ]
        }
      ]
    },
    {
      "cell_type": "code",
      "source": [
        "scores = pd.Series(scores, name=\"scores\")\n",
        "scores.describe()\n",
        "fig, ax = plt.subplots(1, 1)\n",
        "_ = scores.plot(ax=ax, label=\"Scores\")\n",
        "_ = (scores.rolling(window=100)\n",
        "           .mean()\n",
        "           .rename(\"Rolling Average\")\n",
        "           .plot(ax=ax))\n",
        "ax.legend()\n",
        "_ = ax.set_xlabel(\"Episode Number\")\n",
        "_ = ax.set_ylabel(\"Score\")"
      ],
      "metadata": {
        "id": "u3kPJmXM4Ss4",
        "colab": {
          "base_uri": "https://localhost:8080/",
          "height": 449
        },
        "outputId": "a5586423-5d99-498e-e407-d01b3b1d9378"
      },
      "execution_count": 10,
      "outputs": [
        {
          "output_type": "display_data",
          "data": {
            "text/plain": [
              "<Figure size 640x480 with 1 Axes>"
            ],
            "image/png": "[encoded data removed]"
          },
          "metadata": {}
        }
      ]
    },
    {
      "cell_type": "code",
      "source": [],
      "metadata": {
        "id": "VhieIUkx05JU"
      },
      "execution_count": 10,
      "outputs": []
    }
  ]
}